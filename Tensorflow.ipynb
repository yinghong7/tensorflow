{
 "cells": [
  {
   "cell_type": "code",
   "execution_count": 2,
   "metadata": {
    "collapsed": true
   },
   "outputs": [],
   "source": [
    "import numpy as np\n",
    "import tensorflow as tf\n",
    "import matplotlib.pyplot as plt\n",
    "from sklearn.model_selection import train_test_split"
   ]
  },
  {
   "cell_type": "markdown",
   "metadata": {},
   "source": [
    "##### Tensorflow tute - Nick Becker"
   ]
  },
  {
   "cell_type": "code",
   "execution_count": 3,
   "metadata": {},
   "outputs": [
    {
     "name": "stderr",
     "output_type": "stream",
     "text": [
      "c:\\users\\z5023853\\appdata\\local\\programs\\python\\python36\\lib\\site-packages\\ipykernel_launcher.py:5: RuntimeWarning: covariance is not positive-semidefinite.\n",
      "  \"\"\"\n"
     ]
    }
   ],
   "source": [
    "np.random.seed (12)\n",
    "num_observations = 5000\n",
    "x1 = np.random.multivariate_normal([0, 0], [[2, .75],[.75, 2]], num_observations)\n",
    "x2 = np.random.multivariate_normal([1, 4], [[1, .75],[.75, 1]], num_observations)\n",
    "x3 = np.random.multivariate_normal([2, 8], [[0, .75],[.75, 0]], num_observations)"
   ]
  },
  {
   "cell_type": "code",
   "execution_count": 4,
   "metadata": {
    "collapsed": true
   },
   "outputs": [],
   "source": [
    "simulated_separableish_features = np.vstack((x1, x2, x3)).astype(np.float32)\n",
    "simulated_labels = np.hstack((np.zeros(num_observations),\n",
    "\t\t\t\tnp.ones(num_observations), np.ones(num_observations) + 1))"
   ]
  },
  {
   "cell_type": "code",
   "execution_count": 5,
   "metadata": {},
   "outputs": [
    {
     "data": {
      "text/plain": [
       "<matplotlib.collections.PathCollection at 0xc1916d8>"
      ]
     },
     "execution_count": 5,
     "metadata": {},
     "output_type": "execute_result"
    }
   ],
   "source": [
    "plt.figure(figsize=(12,8))\n",
    "plt.scatter(simulated_separableish_features[:, 0], simulated_separableish_features[:, 1],\n",
    "            c = simulated_labels, alpha = .4)"
   ]
  },
  {
   "cell_type": "code",
   "execution_count": 6,
   "metadata": {
    "collapsed": true
   },
   "outputs": [],
   "source": [
    "labels_onehot = np.zeros((simulated_labels.shape[0], 3)).astype(int)\n",
    "labels_onehot[np.arange(len(simulated_labels)), simulated_labels.astype(int)] = 1"
   ]
  },
  {
   "cell_type": "code",
   "execution_count": 7,
   "metadata": {},
   "outputs": [
    {
     "name": "stdout",
     "output_type": "stream",
     "text": [
      "[[0 1]\n",
      " [2 3]\n",
      " [4 5]\n",
      " [6 7]\n",
      " [8 9]]\n"
     ]
    },
    {
     "data": {
      "text/plain": [
       "[0, 1, 2, 3, 4]"
      ]
     },
     "execution_count": 7,
     "metadata": {},
     "output_type": "execute_result"
    }
   ],
   "source": [
    "X, y = np.arange(10).reshape((5, 2)), range(5)\n",
    "print (X)\n",
    "list (y)"
   ]
  },
  {
   "cell_type": "code",
   "execution_count": 11,
   "metadata": {
    "collapsed": true
   },
   "outputs": [],
   "source": [
    "train_dataset, test_dataset, train_labels, test_labels = train_test_split(\n",
    "    simulated_separableish_features, labels_onehot, test_size = .1, random_state = 12)"
   ]
  },
  {
   "cell_type": "code",
   "execution_count": 9,
   "metadata": {
    "collapsed": true
   },
   "outputs": [],
   "source": [
    "#why labels and features are separated??????\n",
    "hidden_nodes = 5\n",
    "num_labels = train_labels.shape[1]\n",
    "batch_size = 100\n",
    "num_features = train_dataset.shape[1]\n",
    "learning_rate = .01"
   ]
  },
  {
   "cell_type": "raw",
   "metadata": {},
   "source": [
    "#tf.placeholder - insert a placeholder for a tensor that will always fed\n",
    "#tf.constant - creat a constant tensor\n",
    "#tf.Variable - create a variable\n",
    "#tf.truncated_normal - outputs random values from a truncated normal distribution\n",
    "#tf.zeros - create a tensor with all elements set to zero\n",
    "#def - define a function\n",
    "#tf.nn - neural network support, including pooling, convolution, \n",
    "    relu, loss function etc. (loss functions are also available in tf.losses)\n",
    "#tf.matmul - math multiplication, available to matrices\n",
    "#tf.Graph - a tensorflow computation normally represented as a dataflow graph\n",
    "#tf.Session - launch the graph in a session"
   ]
  },
  {
   "cell_type": "code",
   "execution_count": 12,
   "metadata": {},
   "outputs": [
    {
     "name": "stdout",
     "output_type": "stream",
     "text": [
      "3\n",
      "2\n",
      "(1500, 2)\n",
      "(13500, 2)\n"
     ]
    }
   ],
   "source": [
    "print (train_labels.shape [1])\n",
    "print (train_dataset.shape [1])\n",
    "print (test_dataset.shape)\n",
    "print (train_dataset.shape)"
   ]
  },
  {
   "cell_type": "code",
   "execution_count": 19,
   "metadata": {
    "collapsed": true
   },
   "outputs": [],
   "source": [
    "graph = tf.Graph()\n",
    "with graph.as_default():\n",
    "    \n",
    "    # Data\n",
    "    tf_train_dataset = tf.placeholder(tf.float32, shape = [None, num_features])\n",
    "    tf_train_labels = tf.placeholder(tf.float32, shape = [None, num_labels])\n",
    "    tf_test_dataset = tf.constant(test_dataset)\n",
    "  \n",
    "    # Weights and Biases\n",
    "    layer1_weights = tf.Variable(tf.truncated_normal([num_features, hidden_nodes]))\n",
    "    layer1_biases = tf.Variable(tf.zeros([hidden_nodes]))\n",
    "    \n",
    "    layer2_weights = tf.Variable(tf.truncated_normal([hidden_nodes, num_labels]))\n",
    "    layer2_biases = tf.Variable(tf.zeros([num_labels]))\n",
    "    \n",
    "    # Three-Layer Network\n",
    "    def three_layer_network(data):\n",
    "        input_layer = tf.matmul(data, layer1_weights)\n",
    "        hidden = tf.nn.relu(input_layer + layer1_biases)\n",
    "        output_layer = tf.matmul(hidden, layer2_weights) + layer2_biases\n",
    "        return output_layer\n",
    "    \n",
    "    # Model Scores\n",
    "    model_scores = three_layer_network(tf_train_dataset)\n",
    "    \n",
    "    # Loss\n",
    "    loss = tf.reduce_mean(tf.nn.softmax_cross_entropy_with_logits(logits = model_scores, labels = tf_train_labels))\n",
    "  \n",
    "    # Optimizer.\n",
    "    optimizer = tf.train.GradientDescentOptimizer(learning_rate).minimize(loss)\n",
    "    \n",
    "    # Predictions\n",
    "    train_prediction = tf.nn.softmax(model_scores)\n",
    "    test_prediction = tf.nn.softmax(three_layer_network(tf_test_dataset))"
   ]
  },
  {
   "cell_type": "code",
   "execution_count": 12,
   "metadata": {},
   "outputs": [
    {
     "name": "stdout",
     "output_type": "stream",
     "text": [
      "(13500, 2)\n"
     ]
    }
   ],
   "source": [
    "print (train_dataset.shape)"
   ]
  },
  {
   "cell_type": "code",
   "execution_count": 13,
   "metadata": {},
   "outputs": [
    {
     "name": "stdout",
     "output_type": "stream",
     "text": [
      "(13500, 3)\n"
     ]
    }
   ],
   "source": [
    "print (train_labels.shape)"
   ]
  },
  {
   "cell_type": "code",
   "execution_count": 14,
   "metadata": {
    "collapsed": true
   },
   "outputs": [],
   "source": [
    "def accuracy(predictions, labels):\n",
    "    preds_correct_boolean =  np.argmax(predictions, 1) == np.argmax(labels, 1)\n",
    "    correct_predictions = np.sum(preds_correct_boolean)\n",
    "    accuracy = 100.0 * correct_predictions / predictions.shape[0]\n",
    "    return accuracy"
   ]
  },
  {
   "cell_type": "code",
   "execution_count": 16,
   "metadata": {},
   "outputs": [
    {
     "name": "stdout",
     "output_type": "stream",
     "text": [
      "Minibatch loss at step: 0 1\n",
      "Minibatch loss at step: 1000 1\n",
      "Minibatch loss at step: 2000 1\n",
      "Minibatch loss at step: 3000 1\n",
      "Minibatch loss at step: 4000 1\n",
      "Minibatch loss at step: 5000 1\n",
      "Minibatch loss at step: 6000 1\n",
      "Minibatch loss at step: 7000 1\n",
      "Minibatch loss at step: 8000 1\n",
      "Minibatch loss at step: 9000 1\n",
      "Minibatch loss at step: 10000 1\n",
      "Test accuracy: 96.33333333333333%\n"
     ]
    }
   ],
   "source": [
    "#this is a mini batch gradient descent\n",
    "num_steps = 10001\n",
    "\n",
    "with tf.Session(graph=graph) as session:\n",
    "    tf.global_variables_initializer().run()\n",
    "    for step in range(num_steps):\n",
    "        offset = (step * batch_size) % (train_labels.shape[0] - batch_size)\n",
    "        minibatch_data = train_dataset[offset:(offset + batch_size), :]\n",
    "        minibatch_labels = train_labels[offset:(offset + batch_size)]\n",
    "        \n",
    "        feed_dict = {tf_train_dataset : minibatch_data, tf_train_labels : minibatch_labels}\n",
    "        \n",
    "        _, l, predictions = session.run(\n",
    "            [optimizer, loss, train_prediction], feed_dict = feed_dict\n",
    "            )\n",
    "        \n",
    "        if step % 1000 == 0:\n",
    "            print (\"Minibatch loss at step: {0} {1}\".format (step, 1))\n",
    "    print ('Test accuracy: {0}%'.format(accuracy(test_prediction.eval(), test_labels)))"
   ]
  }
 ],
 "metadata": {
  "kernelspec": {
   "display_name": "Python 3",
   "language": "python",
   "name": "python3"
  },
  "language_info": {
   "codemirror_mode": {
    "name": "ipython",
    "version": 3
   },
   "file_extension": ".py",
   "mimetype": "text/x-python",
   "name": "python",
   "nbconvert_exporter": "python",
   "pygments_lexer": "ipython3",
   "version": "3.6.2"
  }
 },
 "nbformat": 4,
 "nbformat_minor": 2
}
